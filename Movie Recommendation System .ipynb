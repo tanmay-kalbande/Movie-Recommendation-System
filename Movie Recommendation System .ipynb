{
 "cells": [
  {
   "cell_type": "markdown",
   "id": "6add5ac7",
   "metadata": {},
   "source": [
    "# Movie Recommendation System\n",
    "\n",
    "Welcome to the Movie Recommendation System Jupyter Notebook! This notebook demonstrates the implementation of a collaborative filtering-based movie recommendation system using Python and the MovieLens dataset. \n",
    "\n",
    "## Overview\n",
    "\n",
    "Recommendation systems have become an integral part of our daily lives, helping us discover new movies, music, products, and more. Collaborative filtering is a popular approach in recommendation systems, leveraging the collective behavior of a group of users to make recommendations.\n",
    "\n",
    "In this notebook, we will use the MovieLens dataset, which contains a vast collection of movie ratings from a large number of users. Our goal is to build a recommendation system that analyzes these ratings and provides personalized movie recommendations based on user preferences.\n",
    "\n",
    "## Dataset\n",
    "\n",
    "The MovieLens dataset is widely used in the field of recommender systems and contains movie ratings provided by users. It consists of two main files: \"movies.csv\" and \"ratings.csv\". The \"movies.csv\" file provides details about movies, including movie IDs and titles. The \"ratings.csv\" file contains user ratings for various movies, including user IDs, movie IDs, ratings, and timestamps.\n",
    "\n",
    "## Model Workflow\n",
    "\n",
    "The Movie Recommendation System follows the following workflow:\n",
    "\n",
    "1. **Data Loading**: We start by loading the MovieLens dataset into our notebook using the pandas library. This involves loading the \"movies.csv\" and \"ratings.csv\" files into dataframes for further analysis.\n",
    "\n",
    "2. **Data Cleaning and Manipulation**: We perform necessary data cleaning and manipulation steps to prepare the dataset for analysis. This may include handling missing values, dropping irrelevant columns, and merging relevant dataframes.\n",
    "\n",
    "3. **Exploratory Data Analysis (EDA)**: EDA helps us understand the characteristics of the dataset, discover patterns, and gain insights. We visualize the distribution of rating counts and average ratings to understand the popularity and quality of movies.\n",
    "\n",
    "4. **Collaborative Filtering**: Collaborative filtering is the backbone of our movie recommendation system. We implement item-based collaborative filtering, where we measure the similarity between movies based on user ratings. This allows us to recommend movies that are similar to the ones a user has already rated positively.\n",
    "\n",
    "5. **Movie Recommendations**: Using the collaborative filtering approach, we create a function that takes a movie title as input and recommends similar movies. The function calculates the similarity scores between movies and provides the top-n most similar movies as recommendations.\n",
    "\n",
    "Now, let's dive into building our Movie Recommendation System and discover exciting movies that match our preferences!"
   ]
  },
  {
   "cell_type": "code",
   "execution_count": 1,
   "id": "8708ce5b",
   "metadata": {},
   "outputs": [],
   "source": [
    "# Import necessary libraries\n",
    "import pandas as pd\n",
    "import numpy as np\n",
    "from sklearn.metrics.pairwise import cosine_similarity"
   ]
  },
  {
   "cell_type": "code",
   "execution_count": 2,
   "id": "5f3a6aab",
   "metadata": {},
   "outputs": [],
   "source": [
    "# Load the MovieLens dataset\n",
    "movies = pd.read_csv('movies.csv')\n",
    "ratings = pd.read_csv('ratings.csv')"
   ]
  },
  {
   "cell_type": "code",
   "execution_count": 3,
   "id": "462fd6c3",
   "metadata": {},
   "outputs": [],
   "source": [
    "# Data Cleaning and Manipulation\n",
    "# Drop unnecessary columns from the movies dataset\n",
    "movies = movies.drop(['genres'], axis=1)"
   ]
  },
  {
   "cell_type": "code",
   "execution_count": 4,
   "id": "9d2fc3e0",
   "metadata": {},
   "outputs": [],
   "source": [
    "# Merge movies and ratings datasets based on movieId\n",
    "movie_data = pd.merge(ratings, movies, on='movieId')"
   ]
  },
  {
   "cell_type": "code",
   "execution_count": 5,
   "id": "ed7555bc",
   "metadata": {},
   "outputs": [
    {
     "data": {
      "text/html": [
       "<div>\n",
       "<style scoped>\n",
       "    .dataframe tbody tr th:only-of-type {\n",
       "        vertical-align: middle;\n",
       "    }\n",
       "\n",
       "    .dataframe tbody tr th {\n",
       "        vertical-align: top;\n",
       "    }\n",
       "\n",
       "    .dataframe thead th {\n",
       "        text-align: right;\n",
       "    }\n",
       "</style>\n",
       "<table border=\"1\" class=\"dataframe\">\n",
       "  <thead>\n",
       "    <tr style=\"text-align: right;\">\n",
       "      <th></th>\n",
       "      <th>userId</th>\n",
       "      <th>movieId</th>\n",
       "      <th>rating</th>\n",
       "      <th>timestamp</th>\n",
       "      <th>title</th>\n",
       "    </tr>\n",
       "  </thead>\n",
       "  <tbody>\n",
       "    <tr>\n",
       "      <th>0</th>\n",
       "      <td>1</td>\n",
       "      <td>1</td>\n",
       "      <td>4.0</td>\n",
       "      <td>964982703</td>\n",
       "      <td>Toy Story (1995)</td>\n",
       "    </tr>\n",
       "    <tr>\n",
       "      <th>1</th>\n",
       "      <td>5</td>\n",
       "      <td>1</td>\n",
       "      <td>4.0</td>\n",
       "      <td>847434962</td>\n",
       "      <td>Toy Story (1995)</td>\n",
       "    </tr>\n",
       "    <tr>\n",
       "      <th>2</th>\n",
       "      <td>7</td>\n",
       "      <td>1</td>\n",
       "      <td>4.5</td>\n",
       "      <td>1106635946</td>\n",
       "      <td>Toy Story (1995)</td>\n",
       "    </tr>\n",
       "    <tr>\n",
       "      <th>3</th>\n",
       "      <td>15</td>\n",
       "      <td>1</td>\n",
       "      <td>2.5</td>\n",
       "      <td>1510577970</td>\n",
       "      <td>Toy Story (1995)</td>\n",
       "    </tr>\n",
       "    <tr>\n",
       "      <th>4</th>\n",
       "      <td>17</td>\n",
       "      <td>1</td>\n",
       "      <td>4.5</td>\n",
       "      <td>1305696483</td>\n",
       "      <td>Toy Story (1995)</td>\n",
       "    </tr>\n",
       "    <tr>\n",
       "      <th>...</th>\n",
       "      <td>...</td>\n",
       "      <td>...</td>\n",
       "      <td>...</td>\n",
       "      <td>...</td>\n",
       "      <td>...</td>\n",
       "    </tr>\n",
       "    <tr>\n",
       "      <th>100831</th>\n",
       "      <td>610</td>\n",
       "      <td>160341</td>\n",
       "      <td>2.5</td>\n",
       "      <td>1479545749</td>\n",
       "      <td>Bloodmoon (1997)</td>\n",
       "    </tr>\n",
       "    <tr>\n",
       "      <th>100832</th>\n",
       "      <td>610</td>\n",
       "      <td>160527</td>\n",
       "      <td>4.5</td>\n",
       "      <td>1479544998</td>\n",
       "      <td>Sympathy for the Underdog (1971)</td>\n",
       "    </tr>\n",
       "    <tr>\n",
       "      <th>100833</th>\n",
       "      <td>610</td>\n",
       "      <td>160836</td>\n",
       "      <td>3.0</td>\n",
       "      <td>1493844794</td>\n",
       "      <td>Hazard (2005)</td>\n",
       "    </tr>\n",
       "    <tr>\n",
       "      <th>100834</th>\n",
       "      <td>610</td>\n",
       "      <td>163937</td>\n",
       "      <td>3.5</td>\n",
       "      <td>1493848789</td>\n",
       "      <td>Blair Witch (2016)</td>\n",
       "    </tr>\n",
       "    <tr>\n",
       "      <th>100835</th>\n",
       "      <td>610</td>\n",
       "      <td>163981</td>\n",
       "      <td>3.5</td>\n",
       "      <td>1493850155</td>\n",
       "      <td>31 (2016)</td>\n",
       "    </tr>\n",
       "  </tbody>\n",
       "</table>\n",
       "<p>100836 rows × 5 columns</p>\n",
       "</div>"
      ],
      "text/plain": [
       "        userId  movieId  rating   timestamp                             title\n",
       "0            1        1     4.0   964982703                  Toy Story (1995)\n",
       "1            5        1     4.0   847434962                  Toy Story (1995)\n",
       "2            7        1     4.5  1106635946                  Toy Story (1995)\n",
       "3           15        1     2.5  1510577970                  Toy Story (1995)\n",
       "4           17        1     4.5  1305696483                  Toy Story (1995)\n",
       "...        ...      ...     ...         ...                               ...\n",
       "100831     610   160341     2.5  1479545749                  Bloodmoon (1997)\n",
       "100832     610   160527     4.5  1479544998  Sympathy for the Underdog (1971)\n",
       "100833     610   160836     3.0  1493844794                     Hazard (2005)\n",
       "100834     610   163937     3.5  1493848789                Blair Witch (2016)\n",
       "100835     610   163981     3.5  1493850155                         31 (2016)\n",
       "\n",
       "[100836 rows x 5 columns]"
      ]
     },
     "execution_count": 5,
     "metadata": {},
     "output_type": "execute_result"
    }
   ],
   "source": [
    "movie_data"
   ]
  },
  {
   "cell_type": "code",
   "execution_count": 6,
   "id": "4b532efb",
   "metadata": {},
   "outputs": [],
   "source": [
    "# Perform EDA (Exploratory Data Analysis)\n",
    "# Count the number of ratings for each movie\n",
    "movie_ratings_count = movie_data.groupby(['title'])['rating'].count().reset_index().rename(columns={'rating': 'rating_count'})"
   ]
  },
  {
   "cell_type": "code",
   "execution_count": 7,
   "id": "3cf2e3a8",
   "metadata": {},
   "outputs": [],
   "source": [
    "# Calculate the average rating for each movie\n",
    "movie_ratings_mean = movie_data.groupby(['title'])['rating'].mean().reset_index().rename(columns={'rating': 'rating_mean'})"
   ]
  },
  {
   "cell_type": "code",
   "execution_count": 8,
   "id": "49c1f11f",
   "metadata": {},
   "outputs": [],
   "source": [
    "# Create a consolidated movie dataset with rating count and average rating\n",
    "movie_ratings = pd.merge(movie_ratings_count, movie_ratings_mean, on='title')"
   ]
  },
  {
   "cell_type": "code",
   "execution_count": 9,
   "id": "953308b6",
   "metadata": {},
   "outputs": [
    {
     "data": {
      "image/png": "[encoded data removed]",
      "text/plain": [
       "<Figure size 1000x600 with 1 Axes>"
      ]
     },
     "metadata": {},
     "output_type": "display_data"
    }
   ],
   "source": [
    "# Plot a histogram of the rating count distribution\n",
    "import matplotlib.pyplot as plt\n",
    "\n",
    "plt.figure(figsize=(10, 6))\n",
    "plt.hist(movie_ratings['rating_count'], bins=30, edgecolor='black', color='#FF6862')\n",
    "plt.xlabel('Rating Count', fontsize=12)\n",
    "plt.ylabel('Frequency', fontsize=12)\n",
    "plt.title('Distribution of Rating Count', fontsize=14)\n",
    "plt.xticks(fontsize=10)\n",
    "plt.yticks(fontsize=10)\n",
    "plt.grid(axis='y', alpha=0.3)\n",
    "plt.show()"
   ]
  },
  {
   "cell_type": "code",
   "execution_count": 10,
   "id": "33b98a9f",
   "metadata": {},
   "outputs": [
    {
     "data": {
      "image/png": "[encoded data removed]",
      "text/plain": [
       "<Figure size 1000x600 with 1 Axes>"
      ]
     },
     "metadata": {},
     "output_type": "display_data"
    }
   ],
   "source": [
    "# Plot a histogram of the average rating distribution\n",
    "plt.figure(figsize=(10, 6))\n",
    "plt.hist(movie_ratings['rating_mean'], bins=30, edgecolor='black', color='#FF6862')\n",
    "plt.xlabel('Average Rating', fontsize=12)\n",
    "plt.ylabel('Frequency', fontsize=12)\n",
    "plt.title('Distribution of Average Rating', fontsize=14)\n",
    "plt.xticks(fontsize=10)\n",
    "plt.yticks(fontsize=10)\n",
    "plt.grid(axis='y', alpha=0.3)\n",
    "plt.show()"
   ]
  },
  {
   "cell_type": "code",
   "execution_count": 11,
   "id": "a1c4b887",
   "metadata": {},
   "outputs": [],
   "source": [
    "# Collaborative Filtering\n",
    "# Create a pivot table with userIds as rows and movie titles as columns\n",
    "user_movie_matrix = movie_data.pivot_table(index='userId', columns='title', values='rating')"
   ]
  },
  {
   "cell_type": "code",
   "execution_count": 12,
   "id": "bb4efdbf",
   "metadata": {},
   "outputs": [],
   "source": [
    "# Replace missing values with 0 (if a user hasn't rated a movie)\n",
    "user_movie_matrix = user_movie_matrix.fillna(0)"
   ]
  },
  {
   "cell_type": "code",
   "execution_count": 13,
   "id": "5e0ce4a4",
   "metadata": {},
   "outputs": [],
   "source": [
    "# Calculate the cosine similarity between movies\n",
    "movie_similarity = cosine_similarity(user_movie_matrix.T)"
   ]
  },
  {
   "cell_type": "code",
   "execution_count": 14,
   "id": "99022956",
   "metadata": {},
   "outputs": [],
   "source": [
    "# Convert the similarity matrix to a DataFrame\n",
    "movie_similarity_df = pd.DataFrame(movie_similarity, index=user_movie_matrix.columns, columns=user_movie_matrix.columns)"
   ]
  },
  {
   "cell_type": "code",
   "execution_count": 15,
   "id": "1c495838",
   "metadata": {},
   "outputs": [],
   "source": [
    "# Recommend movies based on user input\n",
    "def recommend_movies(movie_title, top_n=5):\n",
    "    # Get the similarity scores for the given movie\n",
    "    similar_movies = movie_similarity_df[movie_title].sort_values(ascending=False)\n",
    "    \n",
    "    # Filter out the given movie from the list of similar movies\n",
    "    similar_movies = similar_movies.drop(movie_title)\n",
    "    \n",
    "    # Get the top n most similar movies\n",
    "    top_similar_movies = similar_movies.head(top_n)\n",
    "    \n",
    "    return top_similar_movies"
   ]
  },
  {
   "cell_type": "code",
   "execution_count": 16,
   "id": "fe3cb783",
   "metadata": {},
   "outputs": [
    {
     "name": "stdout",
     "output_type": "stream",
     "text": [
      "title\n",
      "Shape of Things, The (2003)    0.786301\n",
      "Big One, The (1997)            0.744100\n",
      "Max (2002)                     0.740383\n",
      "Dancer Upstairs, The (2002)    0.712761\n",
      "Love Liza (2002)               0.710042\n",
      "Name: Lost in La Mancha (2002), dtype: float64\n"
     ]
    }
   ],
   "source": [
    "# Example usage\n",
    "recommended_movies = recommend_movies(\"Lost in La Mancha (2002)\")\n",
    "print(recommended_movies)"
   ]
  },
  {
   "cell_type": "markdown",
   "id": "fe7ebd0c",
   "metadata": {},
   "source": [
    "## Conclusion\n",
    "\n",
    "In this notebook, we have built a Movie Recommendation System using collaborative filtering. We leveraged the MovieLens dataset to analyze movie ratings and provide personalized movie recommendations based on user preferences. Here are the key findings:\n",
    "\n",
    "- The distribution of rating counts revealed that most movies had a relatively low number of ratings, indicating that some movies are more popular and well-known than others.\n",
    "- The distribution of average ratings showed that the majority of movies had average ratings around 3.5 to 4.0, suggesting a generally positive sentiment towards movies in the dataset.\n",
    "- By implementing item-based collaborative filtering, we were able to recommend movies similar to a given movie based on user ratings. This approach helps users discover new movies based on their preferences.\n",
    "\n",
    "The Movie Recommendation System can be further enhanced by incorporating additional features such as genre information, user demographics, or employing more advanced recommendation algorithms. This notebook serves as a starting point for building a movie recommendation system and can be extended and customized based on specific requirements.\n",
    "\n",
    "We hope this notebook has provided valuable insights into building a collaborative filtering-based recommendation system and demonstrated the potential for personalized movie recommendations.\n",
    "\n",
    "Happy movie watching!\n"
   ]
  }
 ],
 "metadata": {
  "kernelspec": {
   "display_name": "Python 3 (ipykernel)",
   "language": "python",
   "name": "python3"
  },
  "language_info": {
   "codemirror_mode": {
    "name": "ipython",
    "version": 3
   },
   "file_extension": ".py",
   "mimetype": "text/x-python",
   "name": "python",
   "nbconvert_exporter": "python",
   "pygments_lexer": "ipython3",
   "version": "3.9.13"
  }
 },
 "nbformat": 4,
 "nbformat_minor": 5
}
